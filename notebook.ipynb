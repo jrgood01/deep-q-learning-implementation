{
 "cells": [
  {
   "cell_type": "code",
   "execution_count": 5,
   "metadata": {},
   "outputs": [
    {
     "data": {
      "image/png": "[encoded data removed]",
      "text/plain": [
       "<PIL.Image.Image image mode=RGB size=256x256>"
      ]
     },
     "metadata": {},
     "output_type": "display_data"
    },
    {
     "name": "stdout",
     "output_type": "stream",
     "text": [
      "Loss:  tensor(0.0718, grad_fn=<MseLossBackward0>)\n",
      "Avg reward:  -0.24\n",
      "Loss:  tensor(0.0553, grad_fn=<MseLossBackward0>)\n",
      "Avg reward:  -0.082\n",
      "Loss:  tensor(0.0703, grad_fn=<MseLossBackward0>)\n",
      "Avg reward:  -0.34\n",
      "Loss:  tensor(0.0809, grad_fn=<MseLossBackward0>)\n",
      "Avg reward:  -0.5\n",
      "Loss:  tensor(0.0427, grad_fn=<MseLossBackward0>)\n",
      "Avg reward:  -0.158\n",
      "Loss:  tensor(0.0207, grad_fn=<MseLossBackward0>)\n",
      "Avg reward:  -0.098\n",
      "Loss:  tensor(0.0358, grad_fn=<MseLossBackward0>)\n",
      "Avg reward:  -0.1\n",
      "Loss:  tensor(0.0417, grad_fn=<MseLossBackward0>)\n",
      "Avg reward:  -0.24\n",
      "Loss:  tensor(0.0430, grad_fn=<MseLossBackward0>)\n",
      "Avg reward:  -0.26\n",
      "Loss:  tensor(0.0053, grad_fn=<MseLossBackward0>)\n",
      "Avg reward:  -0.02\n",
      "Loss:  tensor(0.0186, grad_fn=<MseLossBackward0>)\n",
      "Avg reward:  -0.08\n",
      "Loss:  tensor(0.0378, grad_fn=<MseLossBackward0>)\n",
      "Avg reward:  -0.22\n",
      "Loss:  tensor(0.0114, grad_fn=<MseLossBackward0>)\n",
      "Avg reward:  -0.058\n"
     ]
    }
   ],
   "source": [
    "from PongGym import PongGym\n",
    "import time\n",
    "import random\n",
    "gym =  PongGym(256, 256)\n",
    "while True:\n",
    "    for i in range(0, 350):\n",
    "        gym.render()\n",
    "        gym.updateState(training=False)\n",
    "        time.sleep(.02)\n",
    "    for i in range(0, 350):\n",
    "        gym.updateState()\n",
    "    gym.reset()"
   ]
  }
 ],
 "metadata": {
  "kernelspec": {
   "display_name": "Python 3.8.13",
   "language": "python",
   "name": "python3"
  },
  "language_info": {
   "codemirror_mode": {
    "name": "ipython",
    "version": 3
   },
   "file_extension": ".py",
   "mimetype": "text/x-python",
   "name": "python",
   "nbconvert_exporter": "python",
   "pygments_lexer": "ipython3",
   "version": "3.8.13"
  },
  "orig_nbformat": 4,
  "vscode": {
   "interpreter": {
    "hash": "f6ce4d2be896b0daf8b076d8e452039e388575514e1139e99d3701ecf22a8938"
   }
  }
 },
 "nbformat": 4,
 "nbformat_minor": 2
}
